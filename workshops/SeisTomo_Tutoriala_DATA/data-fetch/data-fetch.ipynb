{
 "cells": [
  {
   "cell_type": "markdown",
   "metadata": {},
   "source": [
    "# Seismic Data Fetching\n",
    "\n",
    "This tutorial aims to introduce some seismic clients that are commonly used to download seismic data including event and station metadata and seismic time series data.\n",
    "\n",
    "**Authors**\n",
    "\n",
    "- Jiayuan Yao ([core-man](https://github.com/core-man))"
   ]
  },
  {
   "cell_type": "markdown",
   "metadata": {},
   "source": [
    "## FDSN Web Services\n",
    "\n",
    "[FDSN Web Services](https://www.fdsn.org/webservices/) defines RESTful web service interfaces for accessing common FDSN data types. This specification serves as a baseline level of compatibility allowing data request tools to work with any FDSN data center implementing these services.\n",
    "\n",
    "**The current specifications**\n",
    "\n",
    "- `fdsnws-event`: For access to event parameters\n",
    "- `fdsnws-station`: For access to station metadata\n",
    "- `fdsnws-dataselect`: For access to time series data\n",
    "- `fdsnws-availability`: For access to time series data availability\n",
    "\n",
    "**Methods**\n",
    "\n",
    "We usually have three methods to use the FDSN Web Services.\n",
    "\n",
    "1. Manual requests using web browser (usually small requests)\n",
    "2. Automated or scripted requests can be made using programs  (usually when we have no suitable client for a data center). For example,\n",
    "    - Linux commands (e.g., [wget](https://man.linuxde.net/wget) and [curl](https://man.linuxde.net/curl))\n",
    "    - Python modules (e.g., [urllib](https://docs.python.org/3/library/urllib.html) and [requests](https://github.com/psf/requests))\n",
    "3. Automated or scripted requests using clients (most popular)\n",
    "\n",
    "In this tutorial, we will focus on the third way. Meanwhile, you'are encouraged to try the first two ways.\n",
    "\n",
    "**Clients**\n",
    "\n",
    "There are a lot of FDSN Web Service clients. You can refer to [SAC Chinese Documention](https://seisman.github.io/SAC_Docs_zh/appendix/data-fetch/fetch-tools/#web-service) and [IRIS](https://service.iris.edu/clients/) for some of them. Note there are more clients available online, and some data centers may have their own clients.\n",
    "\n",
    "We will focus on two of them:\n",
    "\n",
    "- [`SOD`](http://www.seis.sc.edu/sod/): [Chinese introduction](https://blog.seisman.info/sod-notes/) | ready-to-use recipes: [SODrecipes](https://github.com/seisman/SODrecipes) & [SOD.recipes](https://github.com/core-man/SOD.recipes)\n",
    "- [`ObsPy`](https://docs.obspy.org/packages/obspy.clients.fdsn.html): [Live Jupyter Notebooks for Seismology](https://krischer.github.io/seismo_live_build/tree/index.html) | [ROSES: ObsPy](https://www.iris.edu/hq/inclass/course/roses)"
   ]
  },
  {
   "cell_type": "markdown",
   "metadata": {},
   "source": [
    "## A list of FDSN web service providers\n",
    "\n",
    "- [Data Centers Supporting FDSN Web Services](https://www.fdsn.org/webservices/datacenters/)\n",
    "- [FDSN web service client for ObsPy](https://docs.obspy.org/packages/obspy.clients.fdsn.html#basic-fdsn-client-usage)"
   ]
  },
  {
   "cell_type": "code",
   "execution_count": 1,
   "metadata": {},
   "outputs": [
    {
     "name": "stdout",
     "output_type": "stream",
     "text": [
      "BGR         http://eida.bgr.de\n",
      "EMSC        http://www.seismicportal.eu\n",
      "ETH         http://eida.ethz.ch\n",
      "GEONET      http://service.geonet.org.nz\n",
      "GFZ         http://geofon.gfz-potsdam.de\n",
      "ICGC        http://ws.icgc.cat\n",
      "INGV        http://webservices.ingv.it\n",
      "IPGP        http://ws.ipgp.fr\n",
      "IRIS        http://service.iris.edu\n",
      "ISC         http://isc-mirror.iris.washington.edu\n",
      "KNMI        http://rdsa.knmi.nl\n",
      "KOERI       http://eida.koeri.boun.edu.tr\n",
      "LMU         http://erde.geophysik.uni-muenchen.de\n",
      "NCEDC       http://service.ncedc.org\n",
      "NIEP        http://eida-sc3.infp.ro\n",
      "NOA         http://eida.gein.noa.gr\n",
      "ODC         http://www.orfeus-eu.org\n",
      "ORFEUS      http://www.orfeus-eu.org\n",
      "RASPISHAKE  http://fdsnws.raspberryshakedata.com\n",
      "RESIF       http://ws.resif.fr\n",
      "SCEDC       http://service.scedc.caltech.edu\n",
      "TEXNET      http://rtserve.beg.utexas.edu\n",
      "UIB-NORSAR  http://eida.geo.uib.no\n",
      "USGS        http://earthquake.usgs.gov\n",
      "USP         http://sismo.iag.usp.br\n"
     ]
    }
   ],
   "source": [
    "# FDSN web service client for ObsPy\n",
    "from obspy.clients.fdsn.header import URL_MAPPINGS\n",
    "\n",
    "for key in sorted(URL_MAPPINGS.keys()):\n",
    "    print(\"{0:<11} {1}\".format(key,  URL_MAPPINGS[key]))"
   ]
  },
  {
   "cell_type": "markdown",
   "metadata": {},
   "source": [
    "## Data Fetching from a Single Data Center\n",
    "\n",
    "**SOD:**\n",
    "\n",
    "1. [eventArm](http://www.seis.sc.edu/sod/ingredients/eventArm.html): default is [USGS FDSN Event Web Service](https://earthquake.usgs.gov/fdsnws/event/1/)\n",
    "2. [networkArm](http://www.seis.sc.edu/sod/ingredients/networkArm.html): default is [IRIS FDSN Station Web Service](http://service.iris.edu/fdsnws/station/1/)\n",
    "3. [waveformArm](http://www.seis.sc.edu/sod/ingredients/waveformArm.html): default is [IRIS FDSN Dataselect Web Service](http://service.iris.edu/fdsnws/dataselect/1/)\n",
    "\n",
    "**ObsPy FDSN Web Service client:**\n",
    "\n",
    "1. [get_events](https://docs.obspy.org/packages/autogen/obspy.clients.fdsn.client.Client.get_events.html)\n",
    "2. [get_stations](https://docs.obspy.org/packages/autogen/obspy.clients.fdsn.client.Client.get_stations.html)\n",
    "3. [get-waveforms](https://docs.obspy.org/packages/autogen/obspy.clients.fdsn.client.Client.get_waveforms.html)"
   ]
  },
  {
   "cell_type": "markdown",
   "metadata": {},
   "source": [
    "### SOD\n",
    "\n",
    "The arm structure of SOD:\n",
    "\n",
    "![SOD-arm-strucutre](images/SOD-arm-structure.png)\n",
    "\n",
    "The structure of [eventArm](http://www.seis.sc.edu/sod/documentation/tutorials/eventTutorial.html):\n",
    "\n",
    "![eventArm](images/eventArm.png)\n",
    "\n",
    "The structure of [networkArm](http://www.seis.sc.edu/sod/documentation/tutorials/networkTutorial.html):\n",
    "\n",
    "![networkArm](images/networkArm.png)\n",
    "\n",
    "The structure of [waveformArm](http://www.seis.sc.edu/sod/documentation/tutorials/waveformTutorial.html):\n",
    "![waveform](images/waveformArm.png)\n",
    "\n",
    "Let's try the three arms using some SOD recipe demos.\n",
    "      \n",
    "1. [sod-recipe-eventArm.xml](SOD/sod-recipe-eventArm.xml)\n",
    "2. [sod-recipe-networkArm.xml](SOD/sod-recipe-networkArm.xml)\n",
    "3. [sod-recipe-waveformArm-miniseed.xml](SOD/sod-recipe-waveformArm-miniseed.xml) | [sod-recipe-waveformArm-sac.xml](SOD/sod-recipe-waveformArm-sac.xml)\n",
    "\n",
    "**Notes**\n",
    "\n",
    "We may run three SOD tasks to download seismic time series data at the same time. You may try more to find the best number.\n",
    "\n",
    "Note that eventArm and networkArm usually append their results to the output files instead of re-writing."
   ]
  },
  {
   "cell_type": "markdown",
   "metadata": {},
   "source": [
    "### ObsPy FDSN Web Service Client\n",
    "\n",
    "Let's try three kinds of clients used to download station and event metadata and seismic time series data.\n",
    "\n",
    "1. [get_events.ipynb](ObsPy/get_events.ipynb)\n",
    "2. [get_stations.ipynb](ObsPy/get_stations.ipynb)\n",
    "3. [get_waveforms.ipynb](ObsPy/get_waveforms.ipynb)"
   ]
  },
  {
   "cell_type": "markdown",
   "metadata": {},
   "source": [
    "## Data Fetching from Multiple Data Centers\n",
    "\n",
    "There are so many data centers and I hope we can have a unified one in the future~\n",
    "\n",
    "Now, we face a problem, i.e., which data center shall we request data from? Basically, we have to know the stations each data center have.\n",
    "\n",
    "Meanwhile, the same stations may be available from multiple data centers. So, we have to avoid the request and processing of duplicate data.\n",
    "\n",
    "One more note, no matter which data center we download data from, the same station name may have multiple location (e.g., `'', 00, 10`) and channel codes (e.g, `BHZ,HHZ,SHZ`). Shall we download the locations and channels for that station?\n",
    "\n",
    "We can write our own code to deal with the above problems, but luckily, there are some clients which try to deal with them."
   ]
  },
  {
   "cell_type": "markdown",
   "metadata": {},
   "source": [
    "### ObsPy Mass Downloader for FDSN Compliant Web Services\n",
    "\n",
    "Let's try the client to download station metadata and seismic time series data.\n",
    "\n",
    "- [mass-downloader.ipynb](ObsPy/mass-downloader.ipynb)\n",
    "\n",
    "Note that we can also use it to download data from a single data center."
   ]
  },
  {
   "cell_type": "markdown",
   "metadata": {},
   "source": [
    "### Routers\n",
    "\n",
    "Routers are web services that can be queried for which data centers offer certain pieces of data.\n",
    "\n",
    "ObsPy has support for [two routing services](https://docs.obspy.org/master/packages/obspy.clients.fdsn.html#basic-routing-clients-usage):\n",
    "1. [IRIS Federator](https://service.iris.edu/irisws/fedcatalog/1/)\n",
    "2. [EIDAWS Routing Web Service](http://www.orfeus-eu.org/data/eida/webservices/routing/)\n",
    "\n",
    "\n",
    "**IRIS Federator**\n",
    "\n",
    "[IRISWS fedcatalog web service](https://service.iris.edu/irisws/fedcatalog/1/) returns selected time series channels from across multiple FDSN data centers.\n",
    "\n",
    "This interface is primarily designed for discovery of data channels and subsequent requesting of time series using FDSN Web Service interfaces.\n",
    "\n",
    "[A list of FDSN data centers](https://service.iris.edu/irisws/fedcatalog/1/datacenters) contributing the web service (last accessed, 2020/12/12) | [HTML](https://service.iris.edu/irisws/fedcatalog/1/datacenters?format=html)\n",
    "\n",
    "![iris_fedcatalog_datacenter](images/iris_fedcatalog_datacenter.png)\n",
    "\n",
    "\n",
    "**EIDAWS Routing Web Service**\n",
    "\n",
    "The [EIDAWS routing web service](http://www.orfeus-eu.org/data/eida/webservices/routing/) is the webservice that routes requests for different services between EIDA nodes.\n",
    "\n",
    "Different networks will be routed to different data centers depending on their respective data holdings.\n",
    "\n",
    "![EIDAWS](images/EIDAWS.png)"
   ]
  },
  {
   "cell_type": "code",
   "execution_count": 2,
   "metadata": {},
   "outputs": [
    {
     "name": "stdout",
     "output_type": "stream",
     "text": [
      "<class 'obspy.clients.fdsn.routing.eidaws_routing_client.EIDAWSRoutingClient'>\n",
      "<class 'obspy.clients.fdsn.routing.federator_routing_client.FederatorRoutingClient'>\n"
     ]
    }
   ],
   "source": [
    "# To use them, call the RoutingClient() function:\n",
    "from obspy.clients.fdsn import RoutingClient\n",
    "\n",
    "# Get an instance of a routing client using the EIDAWS routing web service:\n",
    "client = RoutingClient(\"eida-routing\")\n",
    "print(type(client))\n",
    "\n",
    "# Get an instance of a routing client using the IRIS Federator:\n",
    "client = RoutingClient(\"iris-federator\")\n",
    "print(type(client))"
   ]
  },
  {
   "cell_type": "markdown",
   "metadata": {},
   "source": [
    "They can then be used like the normal FDSNWS clients, meaning the `get_waveforms`, `get_waveforms_bulk`, `get_stations`, `get_stations_bulk` functions should work as expected."
   ]
  },
  {
   "cell_type": "markdown",
   "metadata": {},
   "source": [
    "An example of IRIS Federator:\n",
    "\n",
    "web browse url:\n",
    "http://service.iris.edu/irisws/fedcatalog/1/query?minlat=35.5&maxlat=36&minlon=-118&maxlon=-117.3&cha=BH?,BL?,HH?,HL?,SH?,SL?,SP?,EH?,EL?,EP?,DP?&level=channel\n",
    "\n",
    "It seems that the following code does not work."
   ]
  },
  {
   "cell_type": "code",
   "execution_count": 74,
   "metadata": {},
   "outputs": [],
   "source": [
    "# request station metadata with the following criterion:\n",
    "# location: within a box region\n",
    "# channel: special channels\n",
    "# level: the level of detail for the results (“network”, “station”, “channel”, or “response”)\n",
    "#inv = client.get_stations(minlat=35.5, maxlat=36, minlon=-118, maxlon=-117.3,\n",
    "#                          cha=\"BH?,BL?,HH?,HL?,SH?,SL?,SP?,EH?,EL?,EP?,DP?\", level=\"channel\")\n",
    "#print(\"A total of {} networks~\".format(len(inv)))\n",
    "#inv.plot()"
   ]
  },
  {
   "cell_type": "markdown",
   "metadata": {},
   "source": [
    "## Other Web Services\n",
    "\n",
    "**EIDA federator**\n",
    "\n",
    "[EIDA federator](http://www.orfeus-eu.org/data/eida/nodes/FEDERATOR/) provides a single, unified access point to the waveform archives and the station and quality control information from the entire EIDA data holdings, i.e. from all the datacenters in EIDA.\n",
    "\n",
    "The Federator is released in January 2020 as a beta version.\n",
    "\n",
    "Access is through standard FDSN and EIDA web services:\n",
    "\n",
    "- [FDSNWS-Dataselect Web Service](http://www.orfeus-eu.org/data/eida/webservices/dataselect/)\n",
    "- [FDSNWS-Station Web Service](http://www.orfeus-eu.org/data/eida/webservices/station/)\n",
    "- [EIDAWS-WFCatalog Web Service](http://www.orfeus-eu.org/data/eida/webservices/wfcatalog/)\n",
    "\n",
    "![EIDA-federator](images/EIDA-federator.png)"
   ]
  },
  {
   "cell_type": "markdown",
   "metadata": {},
   "source": [
    "## Other Station Metadata Fetching Methods\n",
    "\n",
    "We can also use some other methods to search stations.\n",
    "\n",
    "- [IRIS GMAP](http://ds.iris.edu/gmap/)\n",
    "- [IRIS MetaData Aggregator](http://ds.iris.edu/mda/)"
   ]
  },
  {
   "cell_type": "markdown",
   "metadata": {},
   "source": [
    "## Other Data Centers\n",
    "\n",
    "**Japan**\n",
    "\n",
    "- [Hinet](https://www.hinet.bosai.go.jp/)\n",
    "- [Fnet](https://www.fnet.bosai.go.jp/top.php)\n",
    "\n",
    "[HinetPy](https://github.com/seisman/HinetPy) and [Fnetpy](https://github.com/seisman/FnetPy) can be used to automatically download seismic data in Japan networks. Otherwise, you may need to manually download them!\n",
    "\n",
    "An HinetPy example can be found on [Github](https://github.com/MIGG-NTU/SeisData_Tools).\n",
    "\n",
    "\n",
    "**China**\n",
    "\n",
    "- [国家测震台网数据备份中心](http://www.seisdmc.ac.cn/)\n",
    "- [中国地震科学探测台站数据中心](http://www.chinarraydmc.cn/index)\n",
    "\n",
    "We have to request data from those data centers based on their own rules and Chinese laws."
   ]
  }
 ],
 "metadata": {
  "kernelspec": {
   "display_name": "Python 3",
   "language": "python",
   "name": "python3"
  },
  "language_info": {
   "codemirror_mode": {
    "name": "ipython",
    "version": 3
   },
   "file_extension": ".py",
   "mimetype": "text/x-python",
   "name": "python",
   "nbconvert_exporter": "python",
   "pygments_lexer": "ipython3",
   "version": "3.8.6"
  }
 },
 "nbformat": 4,
 "nbformat_minor": 4
}
