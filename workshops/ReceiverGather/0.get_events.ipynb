{
 "cells": [
  {
   "cell_type": "code",
   "execution_count": 1,
   "metadata": {},
   "outputs": [
    {
     "name": "stdout",
     "output_type": "stream",
     "text": [
      "A total of 1000 events~\n"
     ]
    }
   ],
   "source": [
    "from obspy.clients.fdsn import Client\n",
    "from obspy import UTCDateTime\n",
    "\n",
    "from obspy.clients.fdsn.header import URL_MAPPINGS\n",
    "\n",
    "# specify webservice\n",
    "client = Client(\"NCEDC\")\n",
    "\n",
    "# origin time: between start and end time\n",
    "# location: within a box region\n",
    "# depth: between min and max depths\n",
    "# magnitude: between min and mag magnitudes\n",
    "catalog = client.get_events(starttime=UTCDateTime(\"2000-01-01T00:00:00.000\"), endtime=UTCDateTime(\"2021-01-01T00:00:00.000\"),\n",
    "                            minlatitude=34, maxlatitude=37, minlongitude=-122, maxlongitude=-118,limit=1000,\n",
    "                            mindepth=0.0, maxdepth=20.0,\n",
    "                            minmagnitude=3, maxmagnitude=10.0)\n",
    "\n",
    "print(\"A total of {} events~\".format(catalog.count()))"
   ]
  },
  {
   "cell_type": "code",
   "execution_count": 3,
   "metadata": {},
   "outputs": [],
   "source": [
    "# write to a text file\n",
    "datadir = \"/home/tianjue/SPMS/NCA/Data\"\n",
    "with open(f\"{datadir}/events.csv\", \"w\") as f:\n",
    "    f.write(\"time, latitude, longitude, depth, depthUnits, magnitude, magnitudeType\\n\")\n",
    "    for ev in catalog:\n",
    "        origin = ev.preferred_origin().time\n",
    "        lon = ev.preferred_origin().longitude\n",
    "        lat = ev.preferred_origin().latitude\n",
    "        depth = ev.preferred_origin().depth / 1000.0  # convert to KILOMETER\n",
    "        evmg = ev.preferred_magnitude().mag\n",
    "        evmg_type = ev.preferred_magnitude().magnitude_type\n",
    "        f.write(\"{}Z, {:.5f}, {:.5f}, {:6.2f}, {}, {:5}, {}\\n\".format(origin.strftime(\"%Y-%m-%dT%H:%M:%S.%f\")[:-3], lat, lon, depth, \"KILOMETER\", evmg, evmg_type))"
   ]
  }
 ],
 "metadata": {
  "kernelspec": {
   "display_name": "Python 3",
   "language": "python",
   "name": "python3"
  },
  "language_info": {
   "codemirror_mode": {
    "name": "ipython",
    "version": 3
   },
   "file_extension": ".py",
   "mimetype": "text/x-python",
   "name": "python",
   "nbconvert_exporter": "python",
   "pygments_lexer": "ipython3",
   "version": "3.8.6"
  }
 },
 "nbformat": 4,
 "nbformat_minor": 4
}
