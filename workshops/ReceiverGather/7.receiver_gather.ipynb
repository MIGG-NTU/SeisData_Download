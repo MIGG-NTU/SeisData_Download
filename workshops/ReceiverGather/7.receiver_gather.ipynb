{
 "cells": [
  {
   "cell_type": "code",
   "execution_count": 1,
   "id": "incorporated-wrong",
   "metadata": {},
   "outputs": [],
   "source": [
    "import obspy\n",
    "import obspy.io.sac.sactrace\n",
    "import os\n",
    "import glob\n",
    "from shutil import copy"
   ]
  },
  {
   "cell_type": "code",
   "execution_count": 2,
   "id": "rolled-wrapping",
   "metadata": {},
   "outputs": [
    {
     "name": "stdout",
     "output_type": "stream",
     "text": [
      "20200713011828080\n",
      "20200626185507950\n",
      "20200821043305570\n",
      "20201014214241170\n",
      "20201111202659420\n",
      "20201027192243900\n",
      "20200730134819160\n",
      "20201204031825150\n",
      "20200722045709030\n",
      "20200720220153310\n",
      "20201227040537150\n",
      "20200919063846860\n",
      "20200906014836730\n",
      "20200725023646680\n",
      "20201227190547530\n",
      "20201230083022090\n",
      "20201022061014890\n",
      "20200929022220750\n",
      "20200730112928990\n",
      "20200730032301850\n"
     ]
    }
   ],
   "source": [
    "datadir = '/home/tianjue/SPMS/NCA/Data/Download'\n",
    "data_revgather = f'{datadir}/RVGather'\n",
    "data_sac = f'{datadir}/SAC'\n",
    "\n",
    "if not os.path.exists(data_revgather):\n",
    "    os.makedirs(data_revgather)\n",
    "\n",
    "if not os.path.exists(data_sac):\n",
    "        print(\"Missing sac Files: %s\" % data_sac)\n",
    "\n",
    "for ev in os.listdir(data_sac):\n",
    "    inpath = os.path.join(data_sac, ev)\n",
    "    print(ev)\n",
    "        \n",
    "    for sac in glob.glob(f\"{inpath}/*.cut\"):\n",
    "        tr = obspy.read(sac)\n",
    "        \n",
    "        outfile = \"{}.{}\".format(tr[0].stats.network,tr[0].stats.station)\n",
    "        if not os.path.exists(f\"{data_revgather}/{outfile}\"):\n",
    "            os.makedirs(f\"{data_revgather}/{outfile}\")\n",
    "            \n",
    "        copy(sac,f\"{data_revgather}/{outfile}/{ev}.{tr[0].id}.SAC\")"
   ]
  }
 ],
 "metadata": {
  "kernelspec": {
   "display_name": "Python 3",
   "language": "python",
   "name": "python3"
  },
  "language_info": {
   "codemirror_mode": {
    "name": "ipython",
    "version": 3
   },
   "file_extension": ".py",
   "mimetype": "text/x-python",
   "name": "python",
   "nbconvert_exporter": "python",
   "pygments_lexer": "ipython3",
   "version": "3.8.6"
  }
 },
 "nbformat": 4,
 "nbformat_minor": 5
}
