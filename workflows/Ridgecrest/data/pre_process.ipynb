{
 "metadata": {
  "language_info": {
   "codemirror_mode": {
    "name": "ipython",
    "version": 3
   },
   "file_extension": ".py",
   "mimetype": "text/x-python",
   "name": "python",
   "nbconvert_exporter": "python",
   "pygments_lexer": "ipython3",
   "version": "3.8.3-final"
  },
  "orig_nbformat": 2,
  "kernelspec": {
   "name": "python3",
   "display_name": "Python 3"
  }
 },
 "nbformat": 4,
 "nbformat_minor": 2,
 "cells": [
  {
   "source": [
    "# Pre-processing\n",
    "1. Read miniseed data\n",
    "2. Update header variables\n",
    "3. Write SAC files"
   ],
   "cell_type": "markdown",
   "metadata": {}
  },
  {
   "cell_type": "code",
   "execution_count": null,
   "metadata": {},
   "outputs": [],
   "source": [
    "from obspy import UTCDateTime\n",
    "import obspy\n",
    "import os\n",
    "from obspy.taup import TauPyModel\n",
    "from distaz import DistAz"
   ]
  },
  {
   "source": [
    "# Define functions"
   ],
   "cell_type": "markdown",
   "metadata": {}
  },
  {
   "cell_type": "code",
   "execution_count": null,
   "metadata": {},
   "outputs": [],
   "source": [
    "def read_evt(evtf):\n",
    "    \"\"\"\n",
    "    read event information\n",
    "    \"\"\"\n",
    "    with open(evtf, 'r') as f:\n",
    "        lines = f.readlines()[1:]\n",
    "    events = []\n",
    "    dnames = []\n",
    "    for line in lines:\n",
    "        line = line.strip()\n",
    "        temp = line.split(',')\n",
    "        t = UTCDateTime(temp[0])\n",
    "        lat, lon = float(temp[1]), float(temp[2])\n",
    "        depth = float(temp[3])\n",
    "        dpu = temp[4]\n",
    "        mag = float(temp[5])\n",
    "        magt = temp[6]\n",
    "        events.append([t, lat, lon, depth, dpu, mag, magt])\n",
    "        dnames.append(\"%04d%02d%02d%02d%02d%02d%s\" % (t.year, t.month, t.day, t.hour, t.minute, t.second, str(t.microsecond)[:3]))\n",
    "    return dnames, events\n",
    "\n",
    "\n",
    "def read_sta(staf):\n",
    "    \"\"\"\n",
    "    read station information\n",
    "    \"\"\"\n",
    "    with open(staf, 'r') as f:\n",
    "        lines = f.readlines()\n",
    "    stations, name = [], []\n",
    "    for line in lines:\n",
    "        line=line.strip()\n",
    "        #if (not line) or line[0] == '#':\n",
    "        #    continue\n",
    "        temp = line.split(' ')\n",
    "        name.append(temp[0])\n",
    "        lat, lon, stel = float(temp[1]), float(temp[2]), float(temp[3])\n",
    "        stations.append([lat, lon, stel])\n",
    "    return name, stations\n",
    "\n",
    "\n",
    "def mseed2sac(data_root, data_out, dnames, events, fnames, stations):\n",
    "    model = TauPyModel(model=\"iasp91\")\n",
    "    for evt in zip(dnames, events):\n",
    "        for sta in zip(fnames, stations):\n",
    "            fpath = os.path.join(data_root, evt[0], sta[0] + '.mseed')\n",
    "            try:\n",
    "                st = obspy.read(fpath)\n",
    "            except FileNotFoundError:\n",
    "                print(\"Missing File: %s\" % fpath)\n",
    "                continue\n",
    "            st.merge(method=1, fill_value=0, interpolation_samples=-1)\n",
    "            # convert to sac\n",
    "            st.write('temp.sac', format='SAC')\n",
    "            st = obspy.read('temp.sac')\n",
    "            os.remove('./temp.sac')\n",
    "\n",
    "            st[0].stats.sac.stla = sta[1][0]\n",
    "            st[0].stats.sac.stlo = sta[1][1]\n",
    "            st[0].stats.sac.stel = sta[1][2]\n",
    "            st[0].stats.sac.evla = evt[1][1]\n",
    "            st[0].stats.sac.evlo = evt[1][2]\n",
    "            st[0].stats.sac.evdp = evt[1][3]\n",
    "            st[0].stats.sac.mag = evt[1][5]\n",
    "            st[0].stats.sac.o = evt[1][0] - st[0].stats.starttime\n",
    "            st[0].stats.sac.lcalda = 1\n",
    "\n",
    "            da = DistAz(sta[1][0], sta[1][1], evt[1][1], evt[1][2])\n",
    "            gcarc = da.getDelta()\n",
    "            arrivals = model.get_travel_times(source_depth_in_km=evt[1][3],\n",
    "                                  distance_in_degree=gcarc, phase_list=['ttall'])\n",
    "            st[0].stats.sac.t0 = arrivals[0].time + st[0].stats.sac.o\n",
    "\n",
    "            outd = os.path.join(data_out, evt[0])\n",
    "            if not os.path.exists(outd):\n",
    "                os.mkdir(outd)\n",
    "            st.write(os.path.join(outd, sta[0]+'.SAC'))\n",
    "\n"
   ]
  },
  {
   "source": [
    "# Call functions"
   ],
   "cell_type": "markdown",
   "metadata": {}
  },
  {
   "cell_type": "code",
   "execution_count": null,
   "metadata": {},
   "outputs": [],
   "source": [
    "data_root = './miniseed/'\n",
    "data_out = './sac'\n",
    "evt_lst = './events.csv'\n",
    "sta_lst = './station.dat'\n",
    "if not os.path.exists(data_out):\n",
    "    os.mkdir(data_out)\n",
    "dnames, events = read_evt(evt_lst)\n",
    "fnames, stations = read_sta(sta_lst)\n",
    "mseed2sac(data_root, data_out, dnames, events, fnames, stations)"
   ]
  },
  {
   "source": [
    "# Benchmark\n",
    "check the header variables"
   ],
   "cell_type": "markdown",
   "metadata": {}
  },
  {
   "cell_type": "code",
   "execution_count": null,
   "metadata": {
    "tags": []
   },
   "outputs": [],
   "source": [
    "ref = './seismograms/'\n",
    "flog = open('bench.log', 'w')\n",
    "def bench_header(stats):\n",
    "    return [stats.starttime+stats.sac.o-stats.sac.b, stats.sac.stla, stats.sac.stlo, stats.sac.evla, stats.sac.evlo, stats.sac.evdp, stats.sac.mag, stats.sac.stel]\n",
    "def diff_header(s0, s1):\n",
    "    result = []\n",
    "    for h0, h1 in zip(s0, s1):\n",
    "        if h0 - h1 < 0.01:\n",
    "            result.append('OK')\n",
    "        else:\n",
    "            result.append('XX')\n",
    "    return result\n",
    "for d in os.listdir(ref):\n",
    "    d2 = os.path.join(ref, d)\n",
    "    for fname in os.listdir(d2):\n",
    "        pref = os.path.join(d2, fname)\n",
    "        psac = os.path.join(data_out, d, fname)\n",
    "        tr0 = obspy.read(pref)[0]\n",
    "        tr1 = obspy.read(psac)[0]\n",
    "        s0 = tr0.stats\n",
    "        s1 = tr1.stats\n",
    "        flog.write(\"---------------------------------------------\\n\")\n",
    "        cur = \"\"\n",
    "        cur += \"\\t\".join([\"sourcetime\", \"stla\", \"stlo\", \"evla\", \"evlo\", \"evdp\", \"mag\", \"stel\", \"\\n\"])\n",
    "        cur += \"\\t\".join(map(lambda x: str(x), bench_header(s0) + ['\\n']))\n",
    "        cur += \"\\t\".join(map(lambda x: str(x), bench_header(s1) + ['\\n']))\n",
    "        cur += \"\\t\".join(map(lambda x: str(x), diff_header(bench_header(s0), bench_header(s1)) + ['\\n']))\n",
    "        flog.write(cur)\n",
    "        flog.write(\"---------------------------------------------\\n\")\n",
    "flog.close()"
   ]
  }
 ]
}