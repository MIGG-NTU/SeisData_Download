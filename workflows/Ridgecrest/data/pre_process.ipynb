{
 "metadata": {
  "language_info": {
   "codemirror_mode": {
    "name": "ipython",
    "version": 3
   },
   "file_extension": ".py",
   "mimetype": "text/x-python",
   "name": "python",
   "nbconvert_exporter": "python",
   "pygments_lexer": "ipython3",
   "version": "3.8.3-final"
  },
  "orig_nbformat": 2,
  "kernelspec": {
   "name": "python3",
   "display_name": "Python 3"
  }
 },
 "nbformat": 4,
 "nbformat_minor": 2,
 "cells": [
  {
   "source": [
    "# Pre-processing\n",
    "1. Read miniseed data\n",
    "2. Update header variables\n",
    "3. Write SAC files"
   ],
   "cell_type": "markdown",
   "metadata": {}
  },
  {
   "cell_type": "code",
   "execution_count": 2,
   "metadata": {},
   "outputs": [],
   "source": [
    "from obspy import UTCDateTime\n",
    "import obspy\n",
    "import os"
   ]
  },
  {
   "source": [
    "# Define functions"
   ],
   "cell_type": "markdown",
   "metadata": {}
  },
  {
   "cell_type": "code",
   "execution_count": 15,
   "metadata": {},
   "outputs": [],
   "source": [
    "def read_evt(evtf):\n",
    "    \"\"\"\n",
    "    read event information\n",
    "    \"\"\"\n",
    "    with open(evtf, 'r') as f:\n",
    "        lines = f.readlines()[1:]\n",
    "    events = []\n",
    "    dnames = []\n",
    "    for line in lines:\n",
    "        line = line.strip()\n",
    "        temp = line.split(',')\n",
    "        t = UTCDateTime(temp[0])\n",
    "        lat, lon = float(temp[1]), float(temp[2])\n",
    "        depth = float(temp[3])\n",
    "        dpu = temp[4]\n",
    "        mag = float(temp[5])\n",
    "        magt = temp[6]\n",
    "        events.append([t, lat, lon, depth, dpu, mag, magt])\n",
    "        dnames.append(\"%04d%02d%02d%02d%02d%02d%s\" % (t.year, t.month, t.day, t.hour, t.minute, t.second, str(t.microsecond)[:3]))\n",
    "    return dnames, events\n",
    "\n",
    "\n",
    "def read_sta(staf):\n",
    "    \"\"\"\n",
    "    read station information\n",
    "    \"\"\"\n",
    "    with open(staf, 'r') as f:\n",
    "        lines = f.readlines()\n",
    "    stations, name = [], []\n",
    "    for line in lines:\n",
    "        line=line.strip()\n",
    "        #if (not line) or line[0] == '#':\n",
    "        #    continue\n",
    "        temp = line.split(' ')\n",
    "        name.append(temp[0])\n",
    "        lat, lon = float(temp[1]), float(temp[2])\n",
    "        stations.append([lat, lon])\n",
    "    return name, stations\n",
    "\n",
    "\n",
    "def mseed2sac(dnames, events, fnames, stations):\n",
    "    for evt in zip(dnames, events):\n",
    "        for sta in zip(fnames, stations):\n",
    "            fpath = os.path.join(data_root, evt[0], sta[0] + '.mseed')\n",
    "            try:\n",
    "                st = obspy.read(fpath)\n",
    "            except FileNotFoundError:\n",
    "                print(\"Missing File: %s\" % fpath)\n",
    "                continue\n",
    "            \n",
    "            # convert to sac\n",
    "            st.write('temp.sac', format='SAC')\n",
    "            st = obspy.read('temp.sac')\n",
    "            os.remove('./temp.sac')\n",
    "\n",
    "            st[0].stats.sac.stla = sta[1][0]\n",
    "            st[0].stats.sac.stlo = sta[1][1]\n",
    "            st[0].stats.sac.evla = evt[1][1]\n",
    "            st[0].stats.sac.evlo = evt[1][2]\n",
    "            st[0].stats.sac.evdp = evt[1][3]\n",
    "            st[0].stats.sac.mag = evt[1][5]\n",
    "            st[0].stats.sac.o = evt[1][0] - st[0].stats.starttime\n",
    "            outd = os.path.join(data_out, evt[0])\n",
    "            if not os.path.exists(outd):\n",
    "                os.mkdir(outd)\n",
    "            st.write(os.path.join(outd, sta[0]+'.SAC'))"
   ]
  },
  {
   "source": [
    "# Call functions"
   ],
   "cell_type": "markdown",
   "metadata": {}
  },
  {
   "cell_type": "code",
   "execution_count": 30,
   "metadata": {},
   "outputs": [
    {
     "output_type": "stream",
     "name": "stdout",
     "text": [
      "Missing File: ./miniseed/20190704173348530/CI.CCC..HHE.mseed\n",
      "Missing File: ./miniseed/20190704173348530/CI.CCC..HHN.mseed\n",
      "Missing File: ./miniseed/20190704173348530/CI.CCC..HHZ.mseed\n",
      "Missing File: ./miniseed/20190704173348530/CI.CLC..HHE.mseed\n",
      "Missing File: ./miniseed/20190704173348530/CI.CLC..HHN.mseed\n",
      "Missing File: ./miniseed/20190704173348530/CI.CLC..HHZ.mseed\n",
      "Missing File: ./miniseed/20190704173348530/CI.JRC2..HHE.mseed\n",
      "Missing File: ./miniseed/20190704173348530/CI.JRC2..HHN.mseed\n",
      "Missing File: ./miniseed/20190704173348530/CI.JRC2..HHZ.mseed\n",
      "Missing File: ./miniseed/20190704173348530/CI.SRT..HHE.mseed\n",
      "Missing File: ./miniseed/20190704173348530/CI.SRT..HHN.mseed\n",
      "Missing File: ./miniseed/20190704173348530/CI.SRT..HHZ.mseed\n",
      "Missing File: ./miniseed/20190704173348530/CI.TOW2..HHE.mseed\n",
      "Missing File: ./miniseed/20190704173348530/CI.TOW2..HHN.mseed\n",
      "Missing File: ./miniseed/20190704173348530/CI.TOW2..HHZ.mseed\n",
      "Missing File: ./miniseed/20190704173348530/CI.WBM..HHE.mseed\n",
      "Missing File: ./miniseed/20190704173348530/CI.WBM..HHN.mseed\n",
      "Missing File: ./miniseed/20190704173348530/CI.WBM..HHZ.mseed\n",
      "Missing File: ./miniseed/20190704173348530/CI.WRC2..HHE.mseed\n",
      "Missing File: ./miniseed/20190704173348530/CI.WRC2..HHN.mseed\n",
      "Missing File: ./miniseed/20190704173348530/CI.WRC2..HHZ.mseed\n",
      "Missing File: ./miniseed/20190706031952260/CI.CCC..HHE.mseed\n",
      "Missing File: ./miniseed/20190706031952260/CI.CCC..HHN.mseed\n",
      "Missing File: ./miniseed/20190706031952260/CI.CCC..HHZ.mseed\n",
      "Missing File: ./miniseed/20190706031952260/CI.CLC..HHE.mseed\n",
      "Missing File: ./miniseed/20190706031952260/CI.CLC..HHN.mseed\n",
      "Missing File: ./miniseed/20190706031952260/CI.CLC..HHZ.mseed\n",
      "Missing File: ./miniseed/20190706031952260/CI.JRC2..HHE.mseed\n",
      "Missing File: ./miniseed/20190706031952260/CI.JRC2..HHN.mseed\n",
      "Missing File: ./miniseed/20190706031952260/CI.JRC2..HHZ.mseed\n",
      "Missing File: ./miniseed/20190706031952260/CI.SRT..HHE.mseed\n",
      "Missing File: ./miniseed/20190706031952260/CI.SRT..HHN.mseed\n",
      "Missing File: ./miniseed/20190706031952260/CI.SRT..HHZ.mseed\n",
      "Missing File: ./miniseed/20190706031952260/CI.TOW2..HHE.mseed\n",
      "Missing File: ./miniseed/20190706031952260/CI.TOW2..HHN.mseed\n",
      "Missing File: ./miniseed/20190706031952260/CI.TOW2..HHZ.mseed\n",
      "Missing File: ./miniseed/20190706031952260/CI.WBM..HHE.mseed\n",
      "Missing File: ./miniseed/20190706031952260/CI.WBM..HHN.mseed\n",
      "Missing File: ./miniseed/20190706031952260/CI.WBM..HHZ.mseed\n",
      "Missing File: ./miniseed/20190706031952260/CI.WRC2..HHE.mseed\n",
      "Missing File: ./miniseed/20190706031952260/CI.WRC2..HHN.mseed\n",
      "Missing File: ./miniseed/20190706031952260/CI.WRC2..HHZ.mseed\n",
      "Missing File: ./miniseed/20190706034752980/CI.CCC..HHE.mseed\n",
      "Missing File: ./miniseed/20190706034752980/CI.CCC..HHN.mseed\n",
      "Missing File: ./miniseed/20190706034752980/CI.CCC..HHZ.mseed\n",
      "Missing File: ./miniseed/20190706034752980/CI.CLC..HHE.mseed\n",
      "Missing File: ./miniseed/20190706034752980/CI.CLC..HHN.mseed\n",
      "Missing File: ./miniseed/20190706034752980/CI.CLC..HHZ.mseed\n",
      "Missing File: ./miniseed/20190706034752980/CI.JRC2..HHE.mseed\n",
      "Missing File: ./miniseed/20190706034752980/CI.JRC2..HHN.mseed\n",
      "Missing File: ./miniseed/20190706034752980/CI.JRC2..HHZ.mseed\n",
      "Missing File: ./miniseed/20190706034752980/CI.SRT..HHE.mseed\n",
      "Missing File: ./miniseed/20190706034752980/CI.SRT..HHN.mseed\n",
      "Missing File: ./miniseed/20190706034752980/CI.SRT..HHZ.mseed\n",
      "Missing File: ./miniseed/20190706034752980/CI.TOW2..HHE.mseed\n",
      "Missing File: ./miniseed/20190706034752980/CI.TOW2..HHN.mseed\n",
      "Missing File: ./miniseed/20190706034752980/CI.TOW2..HHZ.mseed\n",
      "Missing File: ./miniseed/20190706034752980/CI.WBM..HHE.mseed\n",
      "Missing File: ./miniseed/20190706034752980/CI.WBM..HHN.mseed\n",
      "Missing File: ./miniseed/20190706034752980/CI.WBM..HHZ.mseed\n",
      "Missing File: ./miniseed/20190706034752980/CI.WRC2..HHE.mseed\n",
      "Missing File: ./miniseed/20190706034752980/CI.WRC2..HHN.mseed\n",
      "Missing File: ./miniseed/20190706034752980/CI.WRC2..HHZ.mseed\n"
     ]
    }
   ],
   "source": [
    "data_root = './miniseed/'\n",
    "data_out = './sac'\n",
    "evt_lst = './events.csv'\n",
    "sta_lst = './station.dat'\n",
    "if not os.path.exists(data_out):\n",
    "    os.mkdir(data_out)\n",
    "dnames, events = read_evt(evt_lst)\n",
    "fnames, stations = read_sta(sta_lst)\n",
    "mseed2sac(dnames, events, fnames, stations)"
   ]
  },
  {
   "source": [
    "# Benchmark\n",
    "check the header variables"
   ],
   "cell_type": "markdown",
   "metadata": {}
  },
  {
   "cell_type": "code",
   "execution_count": 28,
   "metadata": {
    "tags": []
   },
   "outputs": [],
   "source": [
    "ref = './seismograms/'\n",
    "flog = open('bench.log', 'w')\n",
    "for d in os.listdir(ref):\n",
    "    d2 = os.path.join(ref, d)\n",
    "    for fname in os.listdir(d2):\n",
    "        pref = os.path.join(d2, fname)\n",
    "        psac = os.path.join(data_out, d, fname)\n",
    "        tr0 = obspy.read(pref)[0]\n",
    "        tr1 = obspy.read(psac)[0]\n",
    "        s0 = tr0.stats\n",
    "        s1 = tr1.stats\n",
    "        flog.write(\"---------------------------------------------\\n\")\n",
    "        flog.write(\"sourcetime stla stlo evla evlo evdp mag\\n\")\n",
    "        flog.write(\" \".join(map(lambda x: str(x), [s0.starttime+s0.sac.o-s0.sac.b, s0.sac.stla, s0.sac.stlo, s0.sac.evla, s0.sac.evlo, s0.sac.evdp, s0.sac.mag, '\\n'])))\n",
    "        flog.write(\" \".join(map(lambda x: str(x), [s1.starttime+s1.sac.o-s1.sac.b, s1.sac.stla, s1.sac.stlo, s1.sac.evla, s1.sac.evlo, s1.sac.evdp, s1.sac.mag, '\\n'])))\n",
    "        flog.write(\"---------------------------------------------\\n\")"
   ]
  }
 ]
}