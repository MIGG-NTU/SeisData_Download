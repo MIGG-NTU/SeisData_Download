{
 "cells": [
  {
   "cell_type": "markdown",
   "metadata": {},
   "source": [
    "# Request waveform data"
   ]
  },
  {
   "cell_type": "code",
   "execution_count": 1,
   "metadata": {},
   "outputs": [],
   "source": [
    "from obspy.clients.fdsn import Client\n",
    "from obspy import UTCDateTime\n",
    "import csv\n",
    "import os"
   ]
  },
  {
   "cell_type": "markdown",
   "metadata": {},
   "source": [
    "## FDSN Dataselect Web Service\n",
    "\n",
    "In this example, we use [SCEDC FDSN Web Services](https://service.scedc.caltech.edu/)."
   ]
  },
  {
   "cell_type": "code",
   "execution_count": 2,
   "metadata": {},
   "outputs": [],
   "source": [
    "# specify webservice\n",
    "client = Client(\"SCEDC\")"
   ]
  },
  {
   "cell_type": "markdown",
   "metadata": {},
   "source": [
    "### Read catalog from input file\n",
    "\n",
    "In this example, we use a custom csv file."
   ]
  },
  {
   "cell_type": "code",
   "execution_count": 4,
   "metadata": {
    "scrolled": true
   },
   "outputs": [
    {
     "name": "stdout",
     "output_type": "stream",
     "text": [
      "['time', ' latitude', ' longitude', ' depth', ' depthUnits', ' magnitude', ' magnitudeType']\n",
      "['2019-07-06T04:18:55.790Z', ' -117.68483', ' 35.91017', '   7.41', ' KILOMETER', '  5.44', ' mw']\n",
      "['2019-07-06T03:47:53.420Z', ' -117.74950', ' 35.90117', '   5.04', ' KILOMETER', '   5.5', ' mw']\n",
      "['2019-07-06T03:19:53.040Z', ' -117.59933', ' 35.76950', '   8.00', ' KILOMETER', '   7.1', ' mw']\n",
      "['2019-07-05T11:07:53.040Z', ' -117.57500', ' 35.76033', '   6.95', ' KILOMETER', '  5.37', ' mw']\n",
      "['2019-07-04T17:33:49.000Z', ' -117.50383', ' 35.70533', '  10.50', ' KILOMETER', '   6.4', ' mw']\n"
     ]
    }
   ],
   "source": [
    "# catalog\n",
    "catalog = \"events.csv\"\n",
    "\n",
    "with open(catalog, \"r\") as csvfile:\n",
    "    events = csv.reader(csvfile, delimiter=',')\n",
    "    \n",
    "    for event in events:\n",
    "        print(event)"
   ]
  },
  {
   "cell_type": "markdown",
   "metadata": {},
   "source": [
    "### Query waveform data\n",
    "\n",
    "Use [Query the dataselect service](https://docs.obspy.org/master/packages/autogen/obspy.clients.fdsn.client.Client.get_waveforms.html) of the client.\n",
    "\n",
    "- The services can deal with UNIX style wildcards.\n",
    "- Use `attach_response=True` to automatically add response information to each trace.\n",
    "\n",
    "The return value is a [Stream](https://docs.obspy.org/master/packages/autogen/obspy.core.stream.Stream.html) object. It is a list like object of multiple ObsPy [Trace](https://docs.obspy.org/master/packages/autogen/obspy.core.trace.Trace.html) objects.\n",
    "\n",
    "![Stream and Trace](../images/Stream-Trace.png)"
   ]
  },
  {
   "cell_type": "code",
   "execution_count": 5,
   "metadata": {},
   "outputs": [
    {
     "name": "stdout",
     "output_type": "stream",
     "text": [
      "['2019-07-06T04:18:55.790Z', ' -117.68483', ' 35.91017', '   7.41', ' KILOMETER', '  5.44', ' mw']\n",
      "origin time: 2019-07-06T04:18:55.790000Z\n",
      "orign time for output file: 20190706041855790\n"
     ]
    },
    {
     "name": "stderr",
     "output_type": "stream",
     "text": [
      "/home/tomoboy/.anaconda3/envs/seis/lib/python3.8/site-packages/obspy/io/mseed/core.py:790: UserWarning: The encoding specified in trace.stats.mseed.encoding does not match the dtype of the data.\n",
      "A suitable encoding will be chosen.\n",
      "  warnings.warn(msg, UserWarning)\n"
     ]
    },
    {
     "name": "stdout",
     "output_type": "stream",
     "text": [
      "Waveform data found for station CI CCC for the event!\n",
      "['2019-07-06T03:47:53.420Z', ' -117.74950', ' 35.90117', '   5.04', ' KILOMETER', '   5.5', ' mw']\n",
      "origin time: 2019-07-06T03:47:53.420000Z\n",
      "orign time for output file: 20190706034753420\n"
     ]
    },
    {
     "name": "stderr",
     "output_type": "stream",
     "text": [
      "/home/tomoboy/.anaconda3/envs/seis/lib/python3.8/site-packages/obspy/io/mseed/core.py:790: UserWarning: The encoding specified in trace.stats.mseed.encoding does not match the dtype of the data.\n",
      "A suitable encoding will be chosen.\n",
      "  warnings.warn(msg, UserWarning)\n"
     ]
    },
    {
     "name": "stdout",
     "output_type": "stream",
     "text": [
      "Waveform data found for station CI CCC for the event!\n",
      "['2019-07-06T03:19:53.040Z', ' -117.59933', ' 35.76950', '   8.00', ' KILOMETER', '   7.1', ' mw']\n",
      "origin time: 2019-07-06T03:19:53.040000Z\n",
      "orign time for output file: 20190706031953040\n"
     ]
    },
    {
     "name": "stderr",
     "output_type": "stream",
     "text": [
      "/home/tomoboy/.anaconda3/envs/seis/lib/python3.8/site-packages/obspy/io/mseed/core.py:790: UserWarning: The encoding specified in trace.stats.mseed.encoding does not match the dtype of the data.\n",
      "A suitable encoding will be chosen.\n",
      "  warnings.warn(msg, UserWarning)\n"
     ]
    },
    {
     "name": "stdout",
     "output_type": "stream",
     "text": [
      "Waveform data found for station CI CCC for the event!\n",
      "['2019-07-05T11:07:53.040Z', ' -117.57500', ' 35.76033', '   6.95', ' KILOMETER', '  5.37', ' mw']\n",
      "origin time: 2019-07-05T11:07:53.040000Z\n",
      "orign time for output file: 20190705110753040\n"
     ]
    },
    {
     "name": "stderr",
     "output_type": "stream",
     "text": [
      "/home/tomoboy/.anaconda3/envs/seis/lib/python3.8/site-packages/obspy/io/mseed/core.py:790: UserWarning: The encoding specified in trace.stats.mseed.encoding does not match the dtype of the data.\n",
      "A suitable encoding will be chosen.\n",
      "  warnings.warn(msg, UserWarning)\n"
     ]
    },
    {
     "name": "stdout",
     "output_type": "stream",
     "text": [
      "Waveform data found for station CI CCC for the event!\n",
      "['2019-07-04T17:33:49.000Z', ' -117.50383', ' 35.70533', '  10.50', ' KILOMETER', '   6.4', ' mw']\n",
      "origin time: 2019-07-04T17:33:49.000000Z\n",
      "orign time for output file: 20190704173349000\n",
      "Waveform data found for station CI CCC for the event!\n"
     ]
    },
    {
     "name": "stderr",
     "output_type": "stream",
     "text": [
      "/home/tomoboy/.anaconda3/envs/seis/lib/python3.8/site-packages/obspy/io/mseed/core.py:790: UserWarning: The encoding specified in trace.stats.mseed.encoding does not match the dtype of the data.\n",
      "A suitable encoding will be chosen.\n",
      "  warnings.warn(msg, UserWarning)\n"
     ]
    }
   ],
   "source": [
    "# loop over events\n",
    "with open(catalog, \"r\") as csvfile:\n",
    "    events = csv.reader(csvfile, delimiter=',')\n",
    "    next(events)  # skip the headers\n",
    "\n",
    "    for event in events:\n",
    "        print(event)\n",
    "\n",
    "        origin_time = UTCDateTime(event[0])\n",
    "        print(\"origin time: {}\".format(origin_time))\n",
    "\n",
    "        # output directory\n",
    "        event_fname = \"\".join(event[0].split(\"T\")[0].split(\"-\")) + \"\".join(\"\".join(\"\".join(event[0].split(\"T\")[1].split(\"Z\")).split(\".\")).split(\":\"))\n",
    "        print(\"orign time for output file: {}\".format(event_fname))\n",
    "        if not os.path.exists(event_fname):\n",
    "            os.mkdir(event_fname)\n",
    "        \n",
    "        # request waveform data with the following criterion:\n",
    "        # time: from origin time minus 20 seconds to origin time plus 60 seconds\n",
    "        # origin_time = UTCDateTime(\"2019-07-06T04:18:55.790\")\n",
    "        try:\n",
    "            # request waveform data and write to miniseed files\n",
    "            st = client.get_waveforms(\"CI\", \"CCC\", \"*\", \"BH?\", origin_time-20, origin_time+60,\n",
    "                                      attach_response=True)\n",
    "            #st.plot();\n",
    "            st.write(\"{}/{}.mseed\".format(event_fname, \"CI.CCC\"), format=\"MSEED\")\n",
    "            '''\n",
    "            for tr in st:\n",
    "                net=tr.stats.network\n",
    "                sta=tr.stats.station\n",
    "                loc=tr.stats.location\n",
    "                chn=tr.stats.channel\n",
    "                print(net, sta, loc, chn)\n",
    "            ''' \n",
    "\n",
    "            # remove response and write to miniseed files\n",
    "            st.remove_response(output=\"DISP\")\n",
    "            #st.plot();\n",
    "            st.write(\"{}/{}.RMRESP.mseed\".format(event_fname, \"CI.CCC\"), format=\"MSEED\")\n",
    "\n",
    "            print('Waveform data found for station {} for the event!'.format(\"CI CCC\"))\n",
    "        except Exception:\n",
    "            print('No waveform data found for station {} for the event!'.format(\"CC CCC\"))\n",
    "            continue"
   ]
  },
  {
   "cell_type": "markdown",
   "metadata": {},
   "source": [
    "We can also send a [bulk request for waveforms](https://docs.obspy.org/master/packages/autogen/obspy.clients.fdsn.client.Client.get_waveforms_bulk.html) to the server."
   ]
  },
  {
   "cell_type": "code",
   "execution_count": null,
   "metadata": {},
   "outputs": [],
   "source": []
  }
 ],
 "metadata": {
  "kernelspec": {
   "display_name": "Python 3",
   "language": "python",
   "name": "python3"
  },
  "language_info": {
   "codemirror_mode": {
    "name": "ipython",
    "version": 3
   },
   "file_extension": ".py",
   "mimetype": "text/x-python",
   "name": "python",
   "nbconvert_exporter": "python",
   "pygments_lexer": "ipython3",
   "version": "3.8.6"
  }
 },
 "nbformat": 4,
 "nbformat_minor": 4
}
