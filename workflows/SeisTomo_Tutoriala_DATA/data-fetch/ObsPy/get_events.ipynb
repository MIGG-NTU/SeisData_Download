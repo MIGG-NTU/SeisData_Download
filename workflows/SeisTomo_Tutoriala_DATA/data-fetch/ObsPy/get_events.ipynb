{
 "cells": [
  {
   "cell_type": "markdown",
   "metadata": {},
   "source": [
    "#  Request event metadata\n"
   ]
  },
  {
   "cell_type": "code",
   "execution_count": 17,
   "metadata": {},
   "outputs": [],
   "source": [
    "from obspy.clients.fdsn import Client\n",
    "from obspy import UTCDateTime"
   ]
  },
  {
   "cell_type": "markdown",
   "metadata": {},
   "source": [
    "## A list of FDSN web service providers\n",
    "\n",
    "- [FDSN web service client for ObsPy](https://docs.obspy.org/packages/obspy.clients.fdsn.html#basic-fdsn-client-usage)\n",
    "- [Data Centers Supporting FDSN Web Services](https://www.fdsn.org/webservices/datacenters/)"
   ]
  },
  {
   "cell_type": "code",
   "execution_count": 18,
   "metadata": {},
   "outputs": [
    {
     "name": "stdout",
     "output_type": "stream",
     "text": [
      "BGR         http://eida.bgr.de\n",
      "EMSC        http://www.seismicportal.eu\n",
      "ETH         http://eida.ethz.ch\n",
      "GEONET      http://service.geonet.org.nz\n",
      "GFZ         http://geofon.gfz-potsdam.de\n",
      "ICGC        http://ws.icgc.cat\n",
      "INGV        http://webservices.ingv.it\n",
      "IPGP        http://ws.ipgp.fr\n",
      "IRIS        http://service.iris.edu\n",
      "ISC         http://isc-mirror.iris.washington.edu\n",
      "KNMI        http://rdsa.knmi.nl\n",
      "KOERI       http://eida.koeri.boun.edu.tr\n",
      "LMU         http://erde.geophysik.uni-muenchen.de\n",
      "NCEDC       http://service.ncedc.org\n",
      "NIEP        http://eida-sc3.infp.ro\n",
      "NOA         http://eida.gein.noa.gr\n",
      "ODC         http://www.orfeus-eu.org\n",
      "ORFEUS      http://www.orfeus-eu.org\n",
      "RASPISHAKE  http://fdsnws.raspberryshakedata.com\n",
      "RESIF       http://ws.resif.fr\n",
      "SCEDC       http://service.scedc.caltech.edu\n",
      "TEXNET      http://rtserve.beg.utexas.edu\n",
      "UIB-NORSAR  http://eida.geo.uib.no\n",
      "USGS        http://earthquake.usgs.gov\n",
      "USP         http://sismo.iag.usp.br\n"
     ]
    }
   ],
   "source": [
    "from obspy.clients.fdsn.header import URL_MAPPINGS\n",
    "\n",
    "for key in sorted(URL_MAPPINGS.keys()):\n",
    "    print(\"{0:<11} {1}\".format(key,  URL_MAPPINGS[key]))"
   ]
  },
  {
   "cell_type": "markdown",
   "metadata": {},
   "source": [
    "## FDSN Event Web Service\n",
    "\n",
    "In this example, we uses USGS FDSN Event Web Service to download [USGS ANSS ComCat](https://earthquake.usgs.gov/data/comcat/) (an earthquake catalog)."
   ]
  },
  {
   "cell_type": "code",
   "execution_count": 19,
   "metadata": {},
   "outputs": [],
   "source": [
    "# specify webservice\n",
    "client = Client(\"USGS\")"
   ]
  },
  {
   "cell_type": "markdown",
   "metadata": {},
   "source": [
    "### Query event\n",
    "\n",
    "Use [Query the event service](https://docs.obspy.org/master/packages/autogen/obspy.clients.fdsn.client.Client.get_events.html) of the client.\n",
    "\n",
    "The return value is a [Catalog](https://docs.obspy.org/master/packages/autogen/obspy.core.event.Catalog.html) object which can contain any number of events.\n",
    "\n",
    "![Catalog](../images/Catalog.png)"
   ]
  },
  {
   "cell_type": "code",
   "execution_count": 20,
   "metadata": {
    "scrolled": true
   },
   "outputs": [
    {
     "name": "stdout",
     "output_type": "stream",
     "text": [
      "A total of 5 events~\n"
     ]
    }
   ],
   "source": [
    "# request event metadata with the following criterion:\n",
    "# origin time: between start and end time\n",
    "# location: within a box region\n",
    "# depth: between min and max depths\n",
    "# magnitude: between min and mag magnitudes\n",
    "catalog = client.get_events(starttime=UTCDateTime(\"2019-07-01T00:00:00.000\"), endtime=UTCDateTime(\"2019-07-11T00:00:00.000\"),\n",
    "                            minlatitude=35.5, maxlatitude=36, minlongitude=-118, maxlongitude=-117.3,\n",
    "                            mindepth=0.0, maxdepth=100.0,\n",
    "                            minmagnitude=5, maxmagnitude=10.0)\n",
    "\n",
    "print(\"A total of {} events~\".format(catalog.count()))"
   ]
  },
  {
   "cell_type": "markdown",
   "metadata": {},
   "source": [
    "### Process the Catalog object\n",
    "\n",
    "Check the methods of a [Catalog](https://docs.obspy.org/master/packages/autogen/obspy.core.event.Catalog.html) object."
   ]
  },
  {
   "cell_type": "markdown",
   "metadata": {},
   "source": [
    "Use [plot](https://docs.obspy.org/master/packages/autogen/obspy.core.event.Catalog.plot.html) method to check event distribution. "
   ]
  },
  {
   "cell_type": "code",
   "execution_count": 21,
   "metadata": {},
   "outputs": [
    {
     "data": {
      "image/png": "[encoded data removed]",
      "text/plain": [
       "<Figure size 432x288 with 2 Axes>"
      ]
     },
     "metadata": {
      "needs_background": "light"
     },
     "output_type": "display_data"
    }
   ],
   "source": [
    "# plot event distribution\n",
    "catalog.plot(projection=\"local\", title=\"Events near Ridgecrest\");"
   ]
  },
  {
   "cell_type": "markdown",
   "metadata": {},
   "source": [
    "Use [write](https://docs.obspy.org/master/packages/autogen/obspy.core.event.Catalog.write.html) method to output the event metadata. "
   ]
  },
  {
   "cell_type": "code",
   "execution_count": 22,
   "metadata": {},
   "outputs": [],
   "source": [
    "# write to a QUAKEML file\n",
    "catalog.write(\"events.xml\", format=\"QUAKEML\")"
   ]
  },
  {
   "cell_type": "markdown",
   "metadata": {},
   "source": [
    "We can also output event metadata in custom fomats.\n",
    "\n",
    "In this example, a [csv file](https://en.wikipedia.org/wiki/Comma-separated_values) is generated in our own way and it can be used in [SOD](http://www.seis.sc.edu/sod/ingredients/CSVEventSource.html). You can also use python [csv](https://docs.python.org/3/library/csv.html) module."
   ]
  },
  {
   "cell_type": "code",
   "execution_count": 23,
   "metadata": {},
   "outputs": [],
   "source": [
    "# write to a text file\n",
    "with open(\"events.csv\", \"w\") as f:\n",
    "    f.write(\"time, latitude, longitude, depth, depthUnits, magnitude, magnitudeType\\n\")\n",
    "    for ev in catalog:\n",
    "        origin = ev.preferred_origin().time\n",
    "        lon = ev.preferred_origin().longitude\n",
    "        lat = ev.preferred_origin().latitude\n",
    "        depth = ev.preferred_origin().depth / 1000.0  # convert to KILOMETER\n",
    "        evmg = ev.preferred_magnitude().mag\n",
    "        evmg_type = ev.preferred_magnitude().magnitude_type\n",
    "        f.write(\"{}Z, {:.5f}, {:.5f}, {:6.2f}, {}, {:5}, {}\\n\".format(origin.strftime(\"%Y-%m-%dT%H:%M:%S.%f\")[:-3], lat, lon, depth, \"KILOMETER\", evmg, evmg_type))"
   ]
  },
  {
   "cell_type": "code",
   "execution_count": null,
   "metadata": {},
   "outputs": [],
   "source": []
  }
 ],
 "metadata": {
  "kernelspec": {
   "display_name": "Python 3",
   "language": "python",
   "name": "python3"
  },
  "language_info": {
   "codemirror_mode": {
    "name": "ipython",
    "version": 3
   },
   "file_extension": ".py",
   "mimetype": "text/x-python",
   "name": "python",
   "nbconvert_exporter": "python",
   "pygments_lexer": "ipython3",
   "version": "3.8.6"
  }
 },
 "nbformat": 4,
 "nbformat_minor": 4
}
