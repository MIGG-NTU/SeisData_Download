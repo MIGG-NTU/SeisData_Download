{
 "cells": [
  {
   "cell_type": "markdown",
   "metadata": {},
   "source": [
    "# Seismic Data Analysis\n",
    "\n",
    "\n",
    "This tutorial aims to introduce some basic data analysis procedures.\n",
    "\n",
    "**Authors**\n",
    "\n",
    "- Jiayuan Yao ([core-man](https://github.com/core-man))"
   ]
  },
  {
   "cell_type": "markdown",
   "metadata": {},
   "source": [
    "## Introduction\n",
    "\n",
    "We begin to analyse seismic time series data after basic data processing.\n",
    "\n",
    "There are several basic data analyses which are commonly performed in the daily research.\n",
    "\n",
    "- [SAC Chinese Documention](https://seisman.github.io/SAC_Docs_zh/data-process/)\n",
    "- [ObsPy Tutorial](https://docs.obspy.org/master/tutorial/index.html)\n",
    "- [Live Jupyter Notebooks for Seismology](https://krischer.github.io/seismo_live_build/tree/index.html)\n",
    "- [Remote Online Sessions for Emerging Seismologists](https://www.iris.edu/hq/inclass/course/roses)\n",
    "\n",
    "In this tutorial, we only introduce some of them indicated below, which may be performed in our seismic travel time tomographic studies. Meanwhile, you may have to conduct some other analyses in your own studies, e.g., [automatical phase picking](https://docs.obspy.org/tutorial/code_snippets/trigger_tutorial.html) and [cross-correlation](https://docs.obspy.org/packages/autogen/obspy.signal.cross_correlation.html).\n",
    "\n",
    "- Writing theoretical arrival times\n",
    "- Data quality control\n",
    "- Sort seismic time series data\n",
    "- Manually picking arrival times\n",
    "- Plot and check processed data\n",
    "\n",
    "While we use ObsPy and SAC to present data analyses here, you are encouraged to refer to other codes or library (e.g., [scipy](https://www.scipy.org/) and [scikit-learn](https://scikit-learn.org/stable/)) to perform the state of art data analyses (e.g., pattern recognition and machine learning)."
   ]
  },
  {
   "cell_type": "markdown",
   "metadata": {},
   "source": [
    "## Basic data analyses"
   ]
  },
  {
   "cell_type": "markdown",
   "metadata": {},
   "source": [
    "### Write theoretical arrival times\n",
    "\n",
    "Calculate theoretical arrival times and write to SAC headers.\n",
    "\n",
    "- [ObsPy](https://docs.obspy.org/packages/obspy.taup.html)\n",
    "- [SAC Chinese Documentation](https://seisman.github.io/SAC_Docs_zh/data-process/traveltime/)\n",
    "\n",
    "In this tutorial, we have already written theoretical P-wave first arrival time in SAC header `t1` in previous data processing step."
   ]
  },
  {
   "cell_type": "markdown",
   "metadata": {},
   "source": [
    "### Data quality control\n",
    "\n",
    "Nowadays, we have many seismic time series data which can be used to study the Earth's interior and seismic source. \n",
    "\n",
    "Sometimes, we'd better to do some data quality control to first select **high-quanlity** data and do the first-round analyses. We can then come back to increase some more data with **medium or low quality** based on the experince learned from the high-quality data. \n",
    "\n",
    "We can decide the data quality based on some custom quantities. The most commonly used one is **singal-noise ratio (SNR)**\n",
    "\n",
    "**SNR = signal energy / noise energy**\n",
    "\n",
    "Either signal or noise energy can be custom defined, e.g., the averaged, absolute maximum, or root-mean-square amplitude in a signal or noie time window. The time windows for singal and noise are also custom defined. For example, we may define the signal time window as 5 second before and 15 second after the theoretical arrival time, while the noise time window from 30 second to 10 second before the theoretical arrival time.\n",
    "\n",
    "The most important point is to find a good criterion to select the **high-quanlity** data. It usually depends on the definition of the custom quantity and the real data quality."
   ]
  },
  {
   "cell_type": "markdown",
   "metadata": {},
   "source": [
    "### Sort seismic time series data\n",
    "\n",
    "Sometimes, we can sort the time series data. In SAC, we can use the [sort](https://seisman.github.io/SAC_Docs_zh/data-process/sort-traces/) command.\n",
    "\n",
    "```bash\n",
    "# sort SAC data based on gcarc\n",
    "$ SAC > r *.SAC\n",
    "$ SAC > sort gcarc\n",
    "$ SAC > PPK\n",
    "```"
   ]
  },
  {
   "cell_type": "markdown",
   "metadata": {},
   "source": [
    "### Manually picking arrival times\n",
    "\n",
    "We use SAC to present how to manually pick P-wave first arrival times.\n",
    "\n",
    "- [SAC Chinese Documentation](https://seisman.github.io/SAC_Docs_zh/data-process/picking-phase/)\n",
    "- SAC commonds: [`read`](https://seisman.github.io/SAC_Docs_zh/commands/read/?highlight=read) | [`plotpk`](https://seisman.github.io/SAC_Docs_zh/commands/plotpk/) | [`write`](https://seisman.github.io/SAC_Docs_zh/commands/write/) | [`oapf`](https://seisman.github.io/SAC_Docs_zh/commands/oapf/) | [`capf`](https://seisman.github.io/SAC_Docs_zh/commands/capf/)\n",
    "\n",
    "When I prepare this tutorial, I find SAC's [`apk`](https://seisman.github.io/SAC_Docs_zh/commands/apk/) command that is used to detect event, but I never try it."
   ]
  },
  {
   "cell_type": "markdown",
   "metadata": {},
   "source": [
    "### Plot and check processed data\n",
    "\n",
    "Please always remember to plot the data and check them!!!\n",
    "\n",
    "- [a simple exmple on our tutorial website](https://migg-ntu.github.io/SeisTomo_Tutorials/data-analysis/plot/index.html)\n",
    "- [GMT sac](https://docs.gmt-china.org/latest/module/sac/?highlight=sac)\n",
    "- [ObsPy tutorial](https://docs.obspy.org/tutorial/code_snippets/waveform_plotting_tutorial.html)\n",
    "- [Remote Online Sessions for Emerging Seismologists: ObsPy](https://www.iris.edu/hq/inclass/course/roses)"
   ]
  },
  {
   "cell_type": "code",
   "execution_count": null,
   "metadata": {},
   "outputs": [],
   "source": []
  }
 ],
 "metadata": {
  "kernelspec": {
   "display_name": "Python 3",
   "language": "python",
   "name": "python3"
  },
  "language_info": {
   "codemirror_mode": {
    "name": "ipython",
    "version": 3
   },
   "file_extension": ".py",
   "mimetype": "text/x-python",
   "name": "python",
   "nbconvert_exporter": "python",
   "pygments_lexer": "ipython3",
   "version": "3.8.6"
  }
 },
 "nbformat": 4,
 "nbformat_minor": 4
}
